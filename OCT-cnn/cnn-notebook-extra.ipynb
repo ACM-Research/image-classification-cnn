{
 "cells": [
  {
   "cell_type": "code",
   "execution_count": 1,
   "metadata": {
    "_cell_guid": "79c7e3d0-c299-4dcb-8224-4455121ee9b0",
    "_uuid": "d629ff2d2480ee46fbb7e2d37f6b5fab8052498a",
    "execution": {
     "iopub.execute_input": "2020-11-03T17:10:01.670887Z",
     "iopub.status.busy": "2020-11-03T17:10:01.669986Z",
     "iopub.status.idle": "2020-11-03T17:10:12.234884Z",
     "shell.execute_reply": "2020-11-03T17:10:12.234185Z"
    },
    "papermill": {
     "duration": 10.585229,
     "end_time": "2020-11-03T17:10:12.235024",
     "exception": false,
     "start_time": "2020-11-03T17:10:01.649795",
     "status": "completed"
    },
    "tags": []
   },
   "outputs": [
    {
     "name": "stdout",
     "output_type": "stream",
     "text": [
      "0\n",
      "Found 968 files belonging to 4 classes.\n"
     ]
    }
   ],
   "source": [
    "\n",
    "import numpy as np # linear algebra\n",
    "import pandas as pd # data processing, CSV file I/O (e.g. pd.read_csv)\n",
    "import pathlib\n",
    "import random\n",
    "import glob\n",
    "\n",
    "# Input data files are available in the read-only \"../input/\" directory\n",
    "# For example, running this (by clicking run or pressing Shift+Enter) will list all files under the input directory\n",
    "\n",
    "import os\n",
    "from keras.preprocessing import image_dataset_from_directory\n",
    "import tensorflow as tf\n",
    "from tensorflow.keras import layers\n",
    "import PIL\n",
    "\n",
    "import matplotlib.pyplot as plt\n",
    "import matplotlib.image as mpimg\n",
    "\n",
    "images_path = os.path.join(os.path.realpath('..'), \"input\", \"kermany2018\", \"OCT2017 \")\n",
    "images_path = pathlib.Path(images_path)\n",
    "\n",
    "image_count = len(list(images_path.glob('*/*.jpeg')))\n",
    "print(image_count)\n",
    "\n",
    "batch_size = 32\n",
    "img_height = 180\n",
    "img_width = 180\n",
    "\n",
    "test_ds = image_dataset_from_directory(\n",
    "os.path.join(images_path, \"test\"),\n",
    "  validation_split=0,\n",
    "  seed=123,\n",
    "  image_size=(img_height, img_width),\n",
    "  batch_size=batch_size)"
   ]
  },
  {
   "cell_type": "code",
   "execution_count": 2,
   "metadata": {
    "execution": {
     "iopub.execute_input": "2020-11-03T17:10:12.258074Z",
     "iopub.status.busy": "2020-11-03T17:10:12.257327Z",
     "iopub.status.idle": "2020-11-03T17:10:12.424593Z",
     "shell.execute_reply": "2020-11-03T17:10:12.425165Z"
    },
    "papermill": {
     "duration": 0.181335,
     "end_time": "2020-11-03T17:10:12.425329",
     "exception": false,
     "start_time": "2020-11-03T17:10:12.243994",
     "status": "completed"
    },
    "tags": []
   },
   "outputs": [
    {
     "name": "stdout",
     "output_type": "stream",
     "text": [
      "Found 32 files belonging to 4 classes.\n"
     ]
    }
   ],
   "source": [
    "val_ds = image_dataset_from_directory(\n",
    "os.path.join(images_path, \"val\"),\n",
    "  validation_split=0,\n",
    "  seed=123,\n",
    "  image_size=(img_height, img_width),\n",
    "  batch_size=batch_size)"
   ]
  },
  {
   "cell_type": "code",
   "execution_count": 3,
   "metadata": {
    "execution": {
     "iopub.execute_input": "2020-11-03T17:10:12.448511Z",
     "iopub.status.busy": "2020-11-03T17:10:12.447814Z",
     "iopub.status.idle": "2020-11-03T17:10:30.492171Z",
     "shell.execute_reply": "2020-11-03T17:10:30.491462Z"
    },
    "papermill": {
     "duration": 18.058312,
     "end_time": "2020-11-03T17:10:30.492300",
     "exception": false,
     "start_time": "2020-11-03T17:10:12.433988",
     "status": "completed"
    },
    "tags": []
   },
   "outputs": [
    {
     "name": "stdout",
     "output_type": "stream",
     "text": [
      "Found 83484 files belonging to 4 classes.\n"
     ]
    }
   ],
   "source": [
    "\n",
    "train_ds = image_dataset_from_directory(\n",
    "  os.path.join(images_path, \"train\"),\n",
    "  validation_split=0,\n",
    "  seed=123,\n",
    "  image_size=(img_height, img_width),\n",
    "  batch_size=batch_size)"
   ]
  },
  {
   "cell_type": "code",
   "execution_count": 4,
   "metadata": {
    "execution": {
     "iopub.execute_input": "2020-11-03T17:10:30.520677Z",
     "iopub.status.busy": "2020-11-03T17:10:30.519859Z",
     "iopub.status.idle": "2020-11-03T17:10:30.561031Z",
     "shell.execute_reply": "2020-11-03T17:10:30.560355Z"
    },
    "papermill": {
     "duration": 0.059403,
     "end_time": "2020-11-03T17:10:30.561170",
     "exception": false,
     "start_time": "2020-11-03T17:10:30.501767",
     "status": "completed"
    },
    "tags": []
   },
   "outputs": [],
   "source": [
    "num_classes = 4\n",
    "\n",
    "model = tf.keras.Sequential([\n",
    "  layers.experimental.preprocessing.Rescaling(1./255),\n",
    "  layers.Conv2D(32, 3, activation='relu'),\n",
    "  layers.MaxPooling2D(),\n",
    "  layers.Conv2D(64, 3, activation='relu'),\n",
    "  layers.MaxPooling2D(),\n",
    "  layers.Conv2D(128, 3, activation='relu'),\n",
    "  layers.MaxPooling2D(),\n",
    "  layers.Flatten(),\n",
    "  layers.Dense(128, activation='relu'),\n",
    "  layers.Dense(num_classes)\n",
    "])"
   ]
  },
  {
   "cell_type": "code",
   "execution_count": 5,
   "metadata": {
    "execution": {
     "iopub.execute_input": "2020-11-03T17:10:30.596869Z",
     "iopub.status.busy": "2020-11-03T17:10:30.595983Z",
     "iopub.status.idle": "2020-11-03T17:10:30.606279Z",
     "shell.execute_reply": "2020-11-03T17:10:30.605351Z"
    },
    "papermill": {
     "duration": 0.03482,
     "end_time": "2020-11-03T17:10:30.606418",
     "exception": false,
     "start_time": "2020-11-03T17:10:30.571598",
     "status": "completed"
    },
    "tags": []
   },
   "outputs": [],
   "source": [
    "\n",
    "model.compile(\n",
    "  optimizer='adam',\n",
    "  loss=tf.losses.SparseCategoricalCrossentropy(from_logits=True),\n",
    "  metrics=['accuracy'])"
   ]
  },
  {
   "cell_type": "code",
   "execution_count": 6,
   "metadata": {
    "execution": {
     "iopub.execute_input": "2020-11-03T17:10:30.632094Z",
     "iopub.status.busy": "2020-11-03T17:10:30.631170Z",
     "iopub.status.idle": "2020-11-03T17:17:53.129514Z",
     "shell.execute_reply": "2020-11-03T17:17:53.128283Z"
    },
    "papermill": {
     "duration": 442.513695,
     "end_time": "2020-11-03T17:17:53.129704",
     "exception": false,
     "start_time": "2020-11-03T17:10:30.616009",
     "status": "completed"
    },
    "tags": []
   },
   "outputs": [
    {
     "name": "stdout",
     "output_type": "stream",
     "text": [
      "2609/2609 [==============================] - 437s 168ms/step - loss: 0.4963 - accuracy: 0.8194 - val_loss: 0.1261 - val_accuracy: 0.9688\n",
      "Model: \"sequential\"\n",
      "_________________________________________________________________\n",
      "Layer (type)                 Output Shape              Param #   \n",
      "=================================================================\n",
      "rescaling (Rescaling)        (None, 180, 180, 3)       0         \n",
      "_________________________________________________________________\n",
      "conv2d (Conv2D)              (None, 178, 178, 32)      896       \n",
      "_________________________________________________________________\n",
      "max_pooling2d (MaxPooling2D) (None, 89, 89, 32)        0         \n",
      "_________________________________________________________________\n",
      "conv2d_1 (Conv2D)            (None, 87, 87, 64)        18496     \n",
      "_________________________________________________________________\n",
      "max_pooling2d_1 (MaxPooling2 (None, 43, 43, 64)        0         \n",
      "_________________________________________________________________\n",
      "conv2d_2 (Conv2D)            (None, 41, 41, 128)       73856     \n",
      "_________________________________________________________________\n",
      "max_pooling2d_2 (MaxPooling2 (None, 20, 20, 128)       0         \n",
      "_________________________________________________________________\n",
      "flatten (Flatten)            (None, 51200)             0         \n",
      "_________________________________________________________________\n",
      "dense (Dense)                (None, 128)               6553728   \n",
      "_________________________________________________________________\n",
      "dense_1 (Dense)              (None, 4)                 516       \n",
      "=================================================================\n",
      "Total params: 6,647,492\n",
      "Trainable params: 6,647,492\n",
      "Non-trainable params: 0\n",
      "_________________________________________________________________\n"
     ]
    }
   ],
   "source": [
    "model.fit(\n",
    "  train_ds,\n",
    "  validation_data=val_ds,\n",
    "  epochs=1\n",
    ")\n",
    "\n",
    "model.summary()"
   ]
  },
  {
   "cell_type": "code",
   "execution_count": 7,
   "metadata": {
    "execution": {
     "iopub.execute_input": "2020-11-03T17:17:55.222158Z",
     "iopub.status.busy": "2020-11-03T17:17:55.221106Z",
     "iopub.status.idle": "2020-11-03T17:17:59.708470Z",
     "shell.execute_reply": "2020-11-03T17:17:59.707873Z"
    },
    "papermill": {
     "duration": 5.537392,
     "end_time": "2020-11-03T17:17:59.708628",
     "exception": false,
     "start_time": "2020-11-03T17:17:54.171236",
     "status": "completed"
    },
    "tags": []
   },
   "outputs": [
    {
     "name": "stdout",
     "output_type": "stream",
     "text": [
      "31/31 [==============================] - 3s 102ms/step - loss: 0.1642 - accuracy: 0.9504\n"
     ]
    },
    {
     "data": {
      "text/plain": [
       "[0.16421499848365784, 0.9504132270812988]"
      ]
     },
     "execution_count": 7,
     "metadata": {},
     "output_type": "execute_result"
    }
   ],
   "source": [
    "model.evaluate(test_ds)"
   ]
  },
  {
   "cell_type": "code",
   "execution_count": 8,
   "metadata": {
    "execution": {
     "iopub.execute_input": "2020-11-03T17:18:01.825790Z",
     "iopub.status.busy": "2020-11-03T17:18:01.824877Z",
     "iopub.status.idle": "2020-11-03T17:18:06.000275Z",
     "shell.execute_reply": "2020-11-03T17:18:06.001086Z"
    },
    "papermill": {
     "duration": 5.238318,
     "end_time": "2020-11-03T17:18:06.001280",
     "exception": false,
     "start_time": "2020-11-03T17:18:00.762962",
     "status": "completed"
    },
    "tags": []
   },
   "outputs": [
    {
     "name": "stdout",
     "output_type": "stream",
     "text": [
      "[3, 0, 1, 1, 0, 0, 1, 1, 1, 1, 0, 3, 3, 3, 1, 0, 3, 0, 2, 0, 0, 1, 3, 1, 3, 2, 2, 3, 0, 1, 1, 0, 0, 3, 0, 3, 0, 3, 1, 1, 1, 0, 2, 3, 2, 2, 1, 0, 1, 0, 1, 0, 3, 3, 2, 2, 2, 2, 0, 3, 2, 3, 1, 3, 1, 3, 3, 3, 1, 2, 2, 2, 1, 1, 3, 1, 3, 1, 2, 3, 2, 2, 0, 2, 1, 2, 1, 1, 3, 1, 3, 1, 1, 0, 0, 3, 1, 2, 3, 1, 0, 1, 2, 1, 1, 0, 1, 1, 1, 2, 1, 3, 1, 0, 0, 3, 0, 2, 1, 0, 0, 0, 1, 0, 1, 0, 1, 1, 1, 3, 0, 2, 2, 3, 3, 2, 1, 2, 3, 3, 3, 0, 2, 1, 2, 3, 0, 0, 2, 3, 2, 0, 0, 3, 2, 3, 2, 0, 3, 3, 2, 1, 0, 3, 1, 1, 2, 2, 1, 0, 2, 1, 3, 2, 0, 2, 1, 0, 0, 0, 0, 3, 3, 1, 0, 2, 3, 0, 1, 2, 0, 1, 2, 3, 1, 1, 1, 3, 3, 2, 2, 0, 3, 1, 2, 3, 3, 2, 2, 2, 0, 2, 3, 2, 3, 3, 0, 0, 1, 3, 2, 1, 0, 0, 2, 0, 1, 3, 0, 0, 2, 0, 3, 3, 3, 1, 0, 0, 3, 0, 1, 3, 3, 3, 0, 0, 2, 1, 3, 3, 2, 2, 1, 0, 0, 2, 2, 3, 3, 0, 1, 2, 3, 0, 0, 0, 0, 1, 1, 0, 2, 0, 3, 3, 0, 2, 1, 1, 2, 2, 0, 2, 2, 1, 1, 2, 3, 3, 1, 0, 3, 2, 2, 2, 2, 1, 1, 0, 3, 1, 2, 2, 2, 3, 2, 1, 0, 0, 3, 3, 1, 2, 2, 3, 2, 3, 1, 0, 2, 2, 1, 1, 2, 1, 0, 3, 2, 2, 0, 0, 0, 3, 1, 2, 3, 1, 2, 0, 3, 3, 0, 3, 1, 2, 1, 3, 0, 2, 3, 2, 2, 0, 1, 0, 2, 3, 2, 2, 1, 1, 3, 0, 0, 1, 0, 2, 0, 0, 3, 0, 0, 0, 2, 3, 2, 2, 1, 3, 3, 1, 1, 3, 1, 0, 0, 0, 2, 2, 1, 0, 1, 2, 2, 3, 1, 0, 1, 3, 0, 2, 2, 1, 0, 1, 0, 3, 2, 3, 0, 1, 0, 3, 3, 1, 0, 2, 2, 2, 2, 0, 3, 3, 0, 2, 2, 1, 1, 1, 0, 1, 1, 2, 2, 2, 3, 0, 3, 3, 3, 3, 0, 3, 2, 0, 3, 3, 2, 1, 3, 1, 0, 0, 0, 3, 2, 2, 2, 2, 1, 0, 2, 3, 2, 2, 3, 3, 2, 2, 3, 3, 3, 2, 2, 3, 1, 1, 2, 2, 3, 3, 2, 2, 1, 0, 3, 1, 0, 0, 2, 1, 3, 0, 1, 2, 3, 1, 0, 2, 1, 1, 0, 2, 2, 1, 2, 2, 3, 2, 3, 3, 2, 3, 1, 2, 3, 0, 3, 1, 0, 3, 2, 0, 1, 0, 3, 2, 1, 2, 3, 2, 0, 3, 0, 3, 0, 0, 0, 1, 3, 3, 2, 1, 2, 1, 0, 0, 0, 1, 3, 3, 0, 3, 3, 1, 1, 3, 1, 0, 3, 0, 0, 1, 0, 2, 2, 2, 3, 1, 0, 1, 3, 1, 3, 1, 2, 1, 3, 0, 3, 2, 1, 3, 2, 0, 2, 2, 2, 1, 2, 0, 2, 3, 0, 2, 2, 2, 0, 0, 0, 1, 0, 1, 2, 3, 0, 0, 2, 3, 3, 1, 3, 3, 3, 2, 3, 1, 3, 1, 1, 2, 2, 1, 2, 2, 2, 0, 3, 0, 3, 3, 3, 3, 3, 0, 1, 3, 1, 2, 1, 0, 3, 3, 0, 2, 2, 3, 2, 3, 3, 0, 3, 0, 3, 1, 3, 3, 1, 1, 2, 1, 3, 2, 1, 1, 2, 1, 0, 0, 2, 2, 0, 0, 3, 1, 1, 1, 0, 3, 1, 0, 1, 3, 3, 2, 1, 2, 0, 1, 2, 0, 2, 2, 3, 0, 3, 1, 3, 1, 1, 0, 3, 1, 0, 0, 0, 3, 1, 0, 1, 2, 1, 2, 2, 2, 0, 2, 1, 0, 3, 1, 2, 3, 1, 0, 1, 1, 1, 1, 3, 0, 3, 2, 1, 2, 0, 1, 3, 0, 1, 2, 2, 0, 0, 3, 1, 1, 0, 2, 1, 3, 2, 2, 3, 2, 2, 0, 1, 2, 1, 0, 3, 1, 3, 0, 1, 0, 3, 1, 0, 3, 2, 1, 3, 2, 2, 2, 1, 0, 1, 1, 1, 0, 3, 3, 2, 1, 0, 0, 0, 1, 1, 3, 1, 2, 3, 3, 0, 0, 2, 1, 1, 2, 3, 0, 3, 3, 1, 2, 1, 3, 2, 2, 1, 0, 1, 3, 1, 1, 2, 3, 1, 3, 0, 2, 1, 0, 3, 1, 0, 3, 1, 0, 2, 2, 2, 2, 3, 3, 3, 1, 0, 1, 0, 1, 0, 1, 1, 0, 2, 1, 0, 3, 3, 0, 3, 1, 2, 1, 2, 3, 1, 2, 1, 2, 2, 0, 2, 1, 1, 1, 2, 0, 2, 2, 2, 1, 0, 0, 1, 1, 0, 1, 0, 0, 3, 0, 2, 2, 0, 1, 3, 0, 0, 3, 3, 2, 1, 2, 1, 0, 0, 2, 3, 0, 2, 2, 0, 3, 0, 0, 3, 2, 0, 2, 0, 2, 3, 3, 3, 0, 0, 1, 2, 1, 1, 3, 2, 3, 0, 1, 1, 0, 1, 0, 1, 2, 3, 0, 0, 2, 1, 3, 2, 0, 0, 3, 0, 0, 0, 3, 2, 3, 0, 3, 3, 0, 0, 0, 2, 3, 3, 1, 3, 1, 2, 0, 3, 0]\n",
      "[3, 0, 1, 1, 0, 0, 1, 1, 1, 1, 0, 3, 3, 3, 1, 0, 3, 0, 0, 0, 0, 1, 3, 1, 3, 2, 2, 3, 0, 1, 1, 0, 0, 3, 0, 3, 0, 3, 1, 1, 1, 0, 2, 3, 2, 2, 1, 0, 1, 0, 1, 0, 3, 3, 0, 2, 2, 2, 0, 3, 2, 3, 1, 2, 1, 3, 3, 3, 1, 2, 2, 2, 1, 1, 3, 1, 3, 1, 2, 3, 2, 2, 0, 2, 1, 2, 1, 1, 3, 1, 3, 1, 1, 0, 0, 3, 1, 2, 3, 3, 0, 1, 2, 1, 1, 0, 1, 1, 1, 2, 1, 3, 1, 0, 0, 3, 0, 0, 1, 0, 0, 0, 1, 0, 1, 0, 1, 1, 1, 3, 0, 2, 2, 3, 3, 2, 3, 2, 2, 3, 3, 0, 2, 1, 2, 3, 0, 0, 2, 3, 2, 0, 0, 3, 0, 3, 2, 0, 3, 3, 2, 1, 0, 3, 1, 1, 2, 2, 1, 0, 2, 3, 3, 2, 0, 2, 1, 0, 0, 0, 0, 3, 3, 1, 0, 2, 3, 0, 1, 2, 0, 1, 2, 3, 1, 1, 1, 3, 3, 2, 2, 0, 3, 1, 2, 3, 3, 2, 2, 2, 0, 2, 3, 2, 3, 3, 0, 0, 1, 3, 2, 1, 0, 1, 2, 0, 1, 3, 0, 0, 2, 0, 3, 3, 3, 1, 0, 0, 3, 0, 1, 3, 2, 3, 0, 0, 2, 1, 3, 3, 2, 2, 1, 0, 0, 2, 2, 3, 3, 0, 1, 2, 3, 0, 0, 0, 0, 1, 1, 0, 2, 0, 3, 3, 0, 2, 1, 0, 2, 2, 0, 2, 2, 1, 3, 3, 3, 3, 1, 0, 3, 2, 2, 2, 2, 1, 1, 0, 3, 1, 0, 2, 0, 3, 2, 1, 0, 0, 3, 3, 1, 2, 2, 3, 2, 3, 1, 0, 2, 2, 1, 1, 2, 1, 0, 3, 2, 2, 0, 0, 0, 3, 1, 2, 3, 1, 2, 0, 3, 3, 0, 3, 1, 2, 1, 3, 0, 2, 3, 2, 2, 0, 1, 0, 2, 3, 2, 2, 3, 1, 3, 0, 0, 1, 0, 2, 0, 0, 3, 0, 0, 0, 2, 3, 2, 2, 1, 3, 3, 3, 0, 3, 1, 0, 0, 0, 2, 0, 1, 0, 0, 2, 2, 3, 1, 0, 1, 3, 0, 2, 2, 1, 0, 1, 0, 3, 2, 3, 0, 1, 2, 3, 3, 3, 0, 2, 2, 2, 2, 0, 3, 3, 0, 2, 2, 1, 1, 1, 0, 1, 1, 2, 2, 2, 3, 0, 3, 3, 3, 3, 0, 3, 2, 0, 3, 3, 2, 1, 3, 1, 0, 0, 0, 3, 2, 2, 2, 2, 1, 0, 2, 2, 2, 2, 3, 3, 2, 0, 3, 3, 3, 2, 2, 3, 1, 1, 2, 2, 3, 3, 2, 2, 1, 0, 3, 1, 0, 0, 2, 1, 2, 0, 1, 2, 3, 1, 0, 2, 1, 1, 0, 2, 2, 1, 2, 2, 3, 2, 3, 3, 2, 3, 3, 2, 3, 0, 3, 1, 0, 3, 2, 0, 1, 0, 3, 2, 1, 2, 3, 2, 0, 3, 0, 3, 0, 0, 0, 1, 3, 3, 2, 1, 0, 1, 0, 0, 0, 1, 3, 3, 0, 3, 3, 1, 1, 3, 1, 0, 3, 0, 0, 1, 0, 2, 2, 2, 3, 1, 0, 1, 3, 1, 3, 1, 2, 1, 3, 0, 3, 2, 1, 3, 2, 1, 2, 2, 2, 1, 2, 0, 2, 3, 0, 2, 2, 2, 0, 0, 0, 1, 0, 1, 2, 3, 0, 0, 2, 3, 3, 1, 3, 3, 3, 2, 3, 1, 3, 1, 1, 2, 2, 3, 2, 2, 2, 0, 3, 0, 3, 3, 3, 3, 3, 0, 1, 3, 1, 2, 1, 0, 3, 3, 1, 2, 2, 3, 2, 3, 3, 0, 3, 0, 3, 1, 3, 3, 1, 1, 2, 1, 3, 2, 1, 1, 2, 1, 0, 0, 2, 2, 0, 0, 2, 0, 1, 1, 0, 3, 1, 0, 1, 3, 3, 2, 3, 2, 0, 1, 2, 0, 2, 2, 3, 0, 3, 1, 3, 3, 1, 0, 3, 1, 0, 0, 0, 3, 1, 0, 1, 2, 1, 2, 2, 2, 0, 2, 1, 0, 3, 1, 2, 3, 1, 0, 1, 1, 0, 1, 3, 0, 3, 2, 1, 2, 0, 3, 3, 0, 1, 2, 2, 0, 0, 3, 1, 0, 0, 2, 1, 3, 2, 2, 3, 2, 2, 0, 1, 2, 1, 0, 3, 1, 3, 0, 2, 0, 3, 3, 0, 3, 2, 0, 3, 2, 2, 2, 3, 0, 1, 1, 3, 0, 3, 3, 2, 0, 0, 0, 0, 1, 1, 3, 1, 2, 3, 3, 0, 0, 2, 1, 1, 2, 3, 0, 3, 3, 1, 2, 1, 3, 2, 2, 1, 0, 1, 3, 1, 1, 2, 3, 1, 3, 0, 2, 1, 0, 3, 1, 0, 3, 1, 0, 2, 2, 2, 2, 3, 3, 3, 1, 0, 1, 0, 1, 0, 1, 1, 0, 0, 1, 0, 3, 3, 0, 3, 1, 2, 1, 2, 3, 1, 2, 1, 2, 2, 0, 2, 1, 3, 1, 2, 0, 2, 2, 2, 1, 0, 0, 1, 1, 0, 1, 0, 0, 3, 0, 2, 2, 0, 1, 3, 0, 0, 3, 3, 2, 3, 2, 1, 0, 0, 2, 3, 0, 2, 2, 0, 3, 0, 0, 3, 2, 0, 2, 0, 2, 3, 3, 3, 0, 0, 1, 0, 1, 1, 3, 2, 3, 0, 1, 1, 0, 1, 0, 1, 2, 3, 0, 0, 2, 1, 3, 2, 0, 0, 3, 0, 0, 0, 3, 2, 3, 0, 3, 3, 0, 0, 0, 2, 3, 3, 1, 3, 1, 2, 0, 3, 0]\n",
      "0.9502368319196179\n"
     ]
    }
   ],
   "source": [
    "# Calculate F1 score\n",
    "from sklearn import metrics\n",
    "# metrics.f1_score(y_actual, y_pred, labels=[0, 1, 2], average='macro')\n",
    "y_pred =[]\n",
    "y_true = []\n",
    "\n",
    "i = 0\n",
    "for batch, lbls in test_ds.as_numpy_iterator():\n",
    "    prediction = model.predict_on_batch(batch)\n",
    "    \n",
    "    for i in range(len(prediction)):\n",
    "        y_true.append(lbls[i])\n",
    "        prediction_single = np.argmax(prediction[i])\n",
    "        y_pred.append(prediction_single)\n",
    "#     print(batch.shape)\n",
    "#     print(lbls.shape)\n",
    "print(y_true)\n",
    "print(y_pred)\n",
    "    \n",
    "print(metrics.f1_score(y_true, y_pred, labels=[0, 1, 2, 3], average='macro'))"
   ]
  }
 ],
 "metadata": {
  "kernelspec": {
   "display_name": "Python 3",
   "language": "python",
   "name": "python3"
  },
  "language_info": {
   "codemirror_mode": {
    "name": "ipython",
    "version": 3
   },
   "file_extension": ".py",
   "mimetype": "text/x-python",
   "name": "python",
   "nbconvert_exporter": "python",
   "pygments_lexer": "ipython3",
   "version": "3.7.6"
  },
  "papermill": {
   "duration": 492.19694,
   "end_time": "2020-11-03T17:18:09.053722",
   "environment_variables": {},
   "exception": null,
   "input_path": "__notebook__.ipynb",
   "output_path": "__notebook__.ipynb",
   "parameters": {},
   "start_time": "2020-11-03T17:09:56.856782",
   "version": "2.1.0"
  }
 },
 "nbformat": 4,
 "nbformat_minor": 4
}
