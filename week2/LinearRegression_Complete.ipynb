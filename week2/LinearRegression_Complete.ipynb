{
  "nbformat": 4,
  "nbformat_minor": 0,
  "metadata": {
    "colab": {
      "name": "LinearRegression.ipynb",
      "provenance": [],
      "collapsed_sections": []
    },
    "kernelspec": {
      "name": "python3",
      "display_name": "Python 3"
    }
  },
  "cells": [
    {
      "cell_type": "markdown",
      "metadata": {
        "id": "Sp_DNu6n7sKW"
      },
      "source": [
        "## Important Corrections\n",
        "1. The performance measure is **mean squared error**.\n",
        "2. The bias term was added to the bottom exercise.\n",
        "3. A completed version of the Linear Regression exercise was added.\n"
      ]
    },
    {
      "cell_type": "markdown",
      "metadata": {
        "id": "GPnwA9zSsXg6"
      },
      "source": [
        "# ACM Research Week 2: Linear Regression\n",
        "\n",
        "[![Open In Colab](https://colab.research.google.com/assets/colab-badge.svg)](https://colab.research.google.com/github/ACM-Research/image-classification-cnn/blob/master/week2/LinearRegression_Complete.ipynb)\n",
        "\n",
        "\n",
        "## Background\n",
        "### Dot Product\n",
        "Assume we have two vectors $\\vec{v} = (v_1, v_2, ..., v_n)$ and $\\vec{w} = (w_1, w_2, ..., w_n)$.\n",
        "\n",
        "The *dot product* is defined as the sum of the product of corresponding components:\n",
        "\n",
        "$$\\vec{v}\\cdot\\vec{w} = v_1 w_1 + v_2 w_2 + ... + v_n w_n$$"
      ]
    },
    {
      "cell_type": "code",
      "metadata": {
        "id": "g2GjF330sT0P",
        "outputId": "3c00c2f2-47c5-4df4-f1e4-ca7cf4612f14",
        "colab": {
          "base_uri": "https://localhost:8080/",
          "height": 34
        }
      },
      "source": [
        "import numpy as np\n",
        "v = np.array([1, 2])\n",
        "w = np.array([3, 4])\n",
        "np.dot(v, w)"
      ],
      "execution_count": 1,
      "outputs": [
        {
          "output_type": "execute_result",
          "data": {
            "text/plain": [
              "11"
            ]
          },
          "metadata": {
            "tags": []
          },
          "execution_count": 1
        }
      ]
    },
    {
      "cell_type": "markdown",
      "metadata": {
        "id": "g8tadAO2TDOt"
      },
      "source": [
        "### Matrix Multiplication\n",
        "Let's say have two matrices $A$ and $B$ as defined below:\n",
        "\n",
        "$$\n",
        "A = \\begin{bmatrix} 1 & 2 & 3 \\\\ 4 & 5 & 6 \\end{bmatrix},\\:\\:\n",
        "B = \\begin{bmatrix} 7 & 8 \\\\ 9 & 10 \\\\ 11 & 12 \\end{bmatrix}\n",
        "$$\n",
        "\n",
        "The *product* $AB$ of two matrices is defined as the dot product between the rows of $A$ with the columns of $B$:\n",
        "\n",
        "$$AB = \\begin{bmatrix}\n",
        "1(7) + 2(9) + 3(11) & 1(8) + 2(10) + 3(12) \\\\\n",
        "4(7) + 5(9) + 6(11) & 4(8) + 5(10) + 6(12)\n",
        "\\end{bmatrix} = \\begin{bmatrix}58 & 64 \\\\ 139 & 154\\end{bmatrix}$$\n",
        "\n",
        "Note than if $A$ is of $a \\times b$ and $B$ is of $b \\times c$, then $AB$ is of size $a \\times c$. \n",
        "\n",
        "The product also doesn't exist if the number of rows in A doesn't match the number of columns in C."
      ]
    },
    {
      "cell_type": "code",
      "metadata": {
        "id": "5jWU5NgpTQ8Z",
        "outputId": "2fbe0284-a457-4712-84da-bbbdb41032f9",
        "colab": {
          "base_uri": "https://localhost:8080/",
          "height": 51
        }
      },
      "source": [
        "A = np.array([[1, 2, 3], [4, 5, 6]])\n",
        "B = np.array([[7, 8], [9, 10], [11, 12]])\n",
        "np.dot(A, B)"
      ],
      "execution_count": 2,
      "outputs": [
        {
          "output_type": "execute_result",
          "data": {
            "text/plain": [
              "array([[ 58,  64],\n",
              "       [139, 154]])"
            ]
          },
          "metadata": {
            "tags": []
          },
          "execution_count": 2
        }
      ]
    },
    {
      "cell_type": "markdown",
      "metadata": {
        "id": "HB89COaDTRUx"
      },
      "source": [
        "### Transpose a Matrix\n",
        "Rows <-> columns. That's it."
      ]
    },
    {
      "cell_type": "code",
      "metadata": {
        "id": "hKWdoDQOTSRC",
        "outputId": "68a67a3d-aef6-4764-d061-0ac6c5dd9521",
        "colab": {
          "base_uri": "https://localhost:8080/",
          "height": 68
        }
      },
      "source": [
        "A.T"
      ],
      "execution_count": 3,
      "outputs": [
        {
          "output_type": "execute_result",
          "data": {
            "text/plain": [
              "array([[1, 4],\n",
              "       [2, 5],\n",
              "       [3, 6]])"
            ]
          },
          "metadata": {
            "tags": []
          },
          "execution_count": 3
        }
      ]
    },
    {
      "cell_type": "markdown",
      "metadata": {
        "id": "Bok2KFgKTTEY"
      },
      "source": [
        "## Main Content\n",
        "\n",
        "### Intro\n",
        "\n",
        "**Linear regression** is one of the most basic machine learning tasks: fit a linear model to some data.\n",
        "\n",
        "You might have seen a line in 2D as $y=mx+b$, where $m$ is the slope and $b$ is the y-intercept.\n",
        "\n",
        "Let's first *vectorize*, this, i.e. think of it within the realm of matrix multiplication. Instead of writing our line as $y=mx+b$, we can rewrite the right side of that equation as $y = w^{\\top}x$, where $x_0 = 1$ and $w$ is a $1\\times 2$ vector.\n",
        "\n",
        "As an example, how would we write the equation $y=3x+4$ in this form?\n",
        "Well, $w = \\begin{bmatrix} 4 \\\\ 3 \\end{bmatrix}$, and $x = \\begin{bmatrix} 1 \\\\ x_1 \\end{bmatrix}$, where $x_1$ takes the place of $x$ in the slope-intercept form equation. We can verify this is the same by multiplying it out:\n",
        "\n",
        "$$\n",
        "\\begin{align}\n",
        "y &= w^{\\top} x \\\\\n",
        "y &= \\begin{bmatrix} 4 & 3 \\end{bmatrix} \\begin{bmatrix} 1 \\\\ x_1 \\end{bmatrix} \\\\\n",
        "y &= 4 + 3x_1 \\;\\checkmark\n",
        "\\end{align}\n",
        "$$"
      ]
    },
    {
      "cell_type": "code",
      "metadata": {
        "id": "CV9Q_YJGTXtp",
        "outputId": "42231c69-7d35-410f-edea-bfde5fdbe644",
        "colab": {
          "base_uri": "https://localhost:8080/",
          "height": 51
        }
      },
      "source": [
        "def equation(x1):\n",
        "  w = np.array([[4], [3]])\n",
        "  x = np.array([[1], [x1]])\n",
        "  return np.dot(w.T, x)\n",
        "print(equation(1).flatten())\n",
        "print(equation(4).flatten())"
      ],
      "execution_count": 4,
      "outputs": [
        {
          "output_type": "stream",
          "text": [
            "[7]\n",
            "[16]\n"
          ],
          "name": "stdout"
        }
      ]
    },
    {
      "cell_type": "markdown",
      "metadata": {
        "id": "LGd2uovYTZBn"
      },
      "source": [
        "### Multivariate Linear Equations: Vectorized\n",
        "Now, let's extend this concept to multiple dimensions and multiple points.\n",
        "Let's say we had the equation $y = w_0x_0 +w_1 x_1 + w_2 x_2 + ... + w_n x_n$. This is a line in $n$ dimensions—for us, we'll say this model takes $n$ *features*. How would we vectorize this, and use it for multiple points?\n",
        "\n",
        "Let's say we have the **design matrix**:\n",
        "$$\n",
        "X = \\begin{bmatrix}\n",
        "1 & 0.315 & 0.083 & 0.849 \\\\\n",
        "1 & 0.522 & 0.079 & 0.530 \\\\\n",
        "1 & 0.558 & 0.252 & 0.958 \\\\\n",
        "1 & 0.134 & 0.241 & 0.473\n",
        "\\end{bmatrix}\n",
        "$$\n",
        "\n",
        "Here, we have 3 *features* and 4 *data points*/*training examples*. We can also say $n=3$ and $m=4$.\n",
        "\n",
        "Let's say we also have a vector of *weights*:\n",
        "\n",
        "$$ w = \n",
        "\\begin{bmatrix}\n",
        "w_0 \\\\\n",
        "w_1 \\\\\n",
        "w_2 \\\\\n",
        "w_3\n",
        "\\end{bmatrix}\n",
        "=\n",
        "\\begin{bmatrix}\n",
        "0.012 \\\\\n",
        "0.951 \\\\\n",
        "0.301 \\\\\n",
        "0.868\n",
        "\\end{bmatrix}$$\n",
        "\n",
        "Therefore, the vectorized version of the multivariate linear equation above would be:\n",
        "\n",
        "$$ y = Xw $$"
      ]
    },
    {
      "cell_type": "code",
      "metadata": {
        "id": "tLwxCmg5TeeV"
      },
      "source": [
        "X = np.array([\n",
        "     [1, 0.315, 0.083, 0.849],\n",
        "     [1, 0.522, 0.079, 0.530],\n",
        "     [1, 0.558, 0.252, 0.958],\n",
        "     [1, 0.134, 0.241, 0.473]\n",
        "])\n",
        "w = np.array([[0.012], [0.951], [0.301], [0.868]])\n",
        "y = np.dot(X, w)"
      ],
      "execution_count": 5,
      "outputs": []
    },
    {
      "cell_type": "markdown",
      "metadata": {
        "id": "hgmxNpWwTe97"
      },
      "source": [
        "### The Problem of Linear Regression\n",
        "With this knowledge, we can now talk about multivariate linear regression.\n",
        "\n",
        "> **The task $T$**: With equation $\\hat{y} = Xw$, have $\\hat{y} \\approx y$ for any $X$ by finding the optimal $w$.\n",
        "\n",
        "> **The experience $E$**: $X_{train}$, as provided\n",
        "\n",
        "> **Performance measure $P$**: <mark>Average (Euclidean) distance</mark> from $\\hat{y}$ to $y$\n",
        "\n",
        "Let's define all of these in terms of matrices and matrix equations:\n",
        "\n",
        "- The task $T$: $\\hat{y} = Xw$, $w \\in \\mathbb{R}^n$\n",
        "- The experience $E$: design matrix of data points\n",
        "- <mark>The performance measure $P$:</mark> $J(w) = \\frac{1}{m}||\\hat{y}- y||^2$\n"
      ]
    },
    {
      "cell_type": "code",
      "metadata": {
        "id": "375TBdpuUk74",
        "outputId": "17ad1d3c-ccba-463f-f291-dcd2217aefd0",
        "colab": {
          "base_uri": "https://localhost:8080/",
          "height": 51
        }
      },
      "source": [
        "y_hat = np.array([[1.1283],\n",
        "       [1.0000],\n",
        "       [1.43],\n",
        "       [0.6234]])\n",
        "print((1/y.shape[0]) * np.linalg.norm(y_hat - y) ** 2.0)\n",
        "y_hat = np.array([[1.07348 ],\n",
        "       [0.992241],\n",
        "       [1.450054],\n",
        "       [0.622539]])\n",
        "print((1/y.shape[0]) * np.linalg.norm(y_hat - y) ** 2.0)"
      ],
      "execution_count": 6,
      "outputs": [
        {
          "output_type": "stream",
          "text": [
            "0.0008670846795000091\n",
            "1.540743955509789e-32\n"
          ],
          "name": "stdout"
        }
      ]
    },
    {
      "cell_type": "markdown",
      "metadata": {
        "id": "ZP3p_V8rUla-"
      },
      "source": [
        "### Gradient Descent\n",
        "How do we use $P$ to get better at $T$?\n",
        "\n",
        "The answer is **gradient descent**. The basic idea behind gradient descent is to use the *partial derivative* of a function to iteratively converge to a (ideally global) minimum.\n",
        "\n",
        "The since this is vectorized, we need to find the partial derivative with respect to every parameter in $w$. In linear algebra, this is also called the gradient $\\nabla$. The gradient of the MSE function is $$\\nabla J(w) = \\frac{1}{m} X^{\\top}(Xw - y)$$\n",
        "\n",
        "So how do we update the weights $w$ given the gradient? Well, we multiply the gradient by a small decimal $\\alpha$ (called the *learning rate*), which is usually set to something small like `0.001` and subtract it from the existing weights.\n",
        "\n",
        "> **Note**: The learning rate will be different for every dataset and ML algorithm. Set it too small, and your model will take forever to *converge* (reach the minimum). Set it too high, and it may overshoot the minimum and fail to converge.\n",
        "\n",
        "As a matrix equation, it looks something like this:\n",
        "\n",
        "$$w = w - \\frac{\\alpha}{m}X^{\\top}(Xw - y)$$"
      ]
    },
    {
      "cell_type": "code",
      "metadata": {
        "id": "scInKKN2U_cN"
      },
      "source": [
        "X = np.array([\n",
        "     [1, 0.315, 0.083, 0.849],\n",
        "     [1, 0.522, 0.079, 0.530],\n",
        "     [1, 0.558, 0.252, 0.958],\n",
        "     [1, 0.134, 0.241, 0.473]\n",
        "])\n",
        "w = np.array([[0.012], [0.951], [0.301], [0.868]])\n",
        "y_hat = np.dot(X, w)\n",
        "y = np.array([[1.5],\n",
        "       [0.23],\n",
        "       [1.0],\n",
        "       [0.6]])\n",
        "alpha = 0.001\n",
        "m = 4\n",
        "# iteratively do gradient descent!"
      ],
      "execution_count": 7,
      "outputs": []
    },
    {
      "cell_type": "markdown",
      "metadata": {
        "id": "c8Og96C_VAMD"
      },
      "source": [
        "## Practice: Implementing a Linear Regression Model\n",
        "Steps to most ML projects:\n",
        "1. Pull in data\n",
        "2. Initialize weights\n",
        "3. Run gradient descent iteratively\n",
        "4. Test on new data\n",
        "5. Report results\n",
        "\n",
        "[Dataset!](https://archive.ics.uci.edu/ml/datasets/Auto+MPG)"
      ]
    },
    {
      "cell_type": "markdown",
      "metadata": {
        "id": "YURiRRAxVtAW"
      },
      "source": [
        "### Step 1: Pull in Data"
      ]
    },
    {
      "cell_type": "code",
      "metadata": {
        "id": "XaqKTuisVnK1",
        "outputId": "84cd3331-3d66-4c31-94ef-b7fcbd297ccc",
        "colab": {
          "base_uri": "https://localhost:8080/",
          "height": 85
        }
      },
      "source": [
        "import pandas as pd\n",
        "import math\n",
        "# Download data and import as pandas df\n",
        "data_url = \"https://archive.ics.uci.edu/ml/machine-learning-databases/auto-mpg/auto-mpg.data\"\n",
        "data = pd.read_csv(data_url, sep=\"\\s+\", header=None, na_values=['?'])\n",
        "# Remove column with car name\n",
        "del data[8]\n",
        "# Fill N/A values\n",
        "data.fillna(0, inplace=True)\n",
        "\n",
        "# Helper function to do some work for us\n",
        "def split_train_test(df, train_split = 0.8, random_seed = 256):\n",
        "  # Find the index we need to go until to grab training rows\n",
        "  num_train_rows = math.floor(train_split * len(data))\n",
        "  # Shuffle data\n",
        "  shuffled_data = df.sample(frac=1, random_state=random_seed)\n",
        "  # Grab training/test df and ensure row-level indices stay the same\n",
        "  train_df = shuffled_data[:num_train_rows].reset_index(drop=True)\n",
        "  test_df = shuffled_data[num_train_rows + 1:].reset_index(drop=True)\n",
        "  # Split x and y values\n",
        "  train_x = train_df.loc[:, 1:] # get all columns except the one w/ index 0 (mpg)\n",
        "  train_y = train_df.loc[:, 0]  # get 0th column (mpg)\n",
        "  test_x = test_df.loc[:, 1:] # get all columns except the one w/ index 0 (mpg)\n",
        "  test_y = test_df.loc[:, 0]  # get 0th column (mpg)\n",
        "  # Insert column of 1s to x values to make this a design matrix\n",
        "  train_x.insert(0, 'bias', 1)\n",
        "  test_x.insert(0, 'bias', 1)\n",
        "  # Return tuple\n",
        "  return train_x.to_numpy(), train_y.to_numpy(), test_x.to_numpy(), test_y.to_numpy()\n",
        "\n",
        "train_x, train_y, test_x, test_y = split_train_test(data)\n",
        "# Note that train_x and test_x have that extra column which is used for the bias\n",
        "print(f'Training set input shape (rows x columns) is {train_x.shape}')\n",
        "print(f'Test set input shape (rows x columns) is {test_x.shape}')\n",
        "print(f'Training set output shape (rows x columns) is {train_y.shape}')\n",
        "print(f'Test set output shape (rows x columns) is {test_y.shape}')"
      ],
      "execution_count": 8,
      "outputs": [
        {
          "output_type": "stream",
          "text": [
            "Training set input shape (rows x columns) is (318, 8)\n",
            "Test set input shape (rows x columns) is (79, 8)\n",
            "Training set output shape (rows x columns) is (318,)\n",
            "Test set output shape (rows x columns) is (79,)\n"
          ],
          "name": "stdout"
        }
      ]
    },
    {
      "cell_type": "markdown",
      "metadata": {
        "id": "NIMQFgI6bY5k"
      },
      "source": [
        "## Step 2: Initialize Weights"
      ]
    },
    {
      "cell_type": "code",
      "metadata": {
        "id": "FshluaffbZP_"
      },
      "source": [
        "np.random.seed(256) # use a different seed to get diff results, or comment out to use random seed\n",
        "# (n+1) parameters needed, where n is the number of columns in original dataset\n",
        "w = np.random.random_sample((8,))"
      ],
      "execution_count": 9,
      "outputs": []
    },
    {
      "cell_type": "markdown",
      "metadata": {
        "id": "PCtLWB12bc99"
      },
      "source": [
        "# Step 3: Run Gradient Descent"
      ]
    },
    {
      "cell_type": "code",
      "metadata": {
        "id": "nxAlYaPobrG7",
        "outputId": "f578afab-d802-480b-daba-d85237df5734",
        "colab": {
          "base_uri": "https://localhost:8080/",
          "height": 204
        }
      },
      "source": [
        "import math\n",
        "# Helper function\n",
        "def add_column_of_ones(arr):\n",
        "  m = arr.shape[0]\n",
        "  ones = np.zeros((m,1)) + 1\n",
        "  return np.c_[ones, arr]\n",
        "\n",
        "# Let's define a function predict which outputs matrix of predictions given X\n",
        "def predict(x_values, weights, is_design_matrix = True):\n",
        "  X = x_values\n",
        "  if not is_design_matrix:\n",
        "    # Add column of 1s to numpy array\n",
        "    X = add_column_of_ones(X)\n",
        "  return np.squeeze(np.dot(X, w))\n",
        "\n",
        "# Let's then define the cost function J(w)\n",
        "def cost(pred, actual):\n",
        "  m = pred.shape[0]\n",
        "  return (1/m) * (np.linalg.norm(pred - actual) ** 2.0)\n",
        "\n",
        "# Now, let's define the gradient of the cost function:\n",
        "def grad_cost(x_values, weights, actual, is_design_matrix = True):\n",
        "  X = x_values\n",
        "  m = X.shape[0]\n",
        "  if not is_design_matrix:\n",
        "    # Add column of 1s to numpy array\n",
        "    X = add_column_of_ones(X)\n",
        "  # Xw - y term\n",
        "  pred_diff = predict(X, weights) - actual\n",
        "  return (1/m) * np.dot(X.T, pred_diff)\n",
        "\n",
        "# Weight update rule\n",
        "def update_weights(alpha, weights, grad):\n",
        "  return weights - (alpha * grad)\n",
        "\n",
        "\n",
        "\n",
        "# This is an example of GD with stopping at a specific # of iterations\n",
        "# See https://stats.stackexchange.com/questions/33136/how-to-define-the-termination-condition-for-gradient-descent\n",
        "# for other options\n",
        "\n",
        "costs = []\n",
        "alpha = 2e-7 # This is a hyperparameter — you may need to play around with this\n",
        "iter = 0\n",
        "\n",
        "while iter < 1e6:\n",
        "  grad = grad_cost(train_x, w, train_y)\n",
        "  w = update_weights(alpha, w, grad)\n",
        "  cost_value = cost(predict(train_x, w), train_y)\n",
        "  costs.append(cost_value)\n",
        "  if iter % 100000 == 0:\n",
        "    print(f'Iteration {iter} - cost (mse): {cost_value}')\n",
        "  iter += 1\n",
        "print('Trained.')\n"
      ],
      "execution_count": 10,
      "outputs": [
        {
          "output_type": "stream",
          "text": [
            "Iteration 0 - cost (mse): 18484.792859233763\n",
            "Iteration 100000 - cost (mse): 13.273020197282872\n",
            "Iteration 200000 - cost (mse): 13.179284228984105\n",
            "Iteration 300000 - cost (mse): 13.097661623793005\n",
            "Iteration 400000 - cost (mse): 13.026320603537709\n",
            "Iteration 500000 - cost (mse): 12.963850857465355\n",
            "Iteration 600000 - cost (mse): 12.909037152243927\n",
            "Iteration 700000 - cost (mse): 12.860832172000029\n",
            "Iteration 800000 - cost (mse): 12.818333298137821\n",
            "Iteration 900000 - cost (mse): 12.780762600516944\n",
            "Trained.\n"
          ],
          "name": "stdout"
        }
      ]
    },
    {
      "cell_type": "markdown",
      "metadata": {
        "id": "n1XhYfSibrXV"
      },
      "source": [
        "## Step 4: Test on New Data"
      ]
    },
    {
      "cell_type": "code",
      "metadata": {
        "id": "3SpySiFhbuWo",
        "outputId": "4ca0b54f-3afc-4b77-d18a-a9a1cc72776c",
        "colab": {
          "base_uri": "https://localhost:8080/",
          "height": 34
        }
      },
      "source": [
        "# Mean squared error between predicted and actual\n",
        "cost(predict(test_x, w), test_y)"
      ],
      "execution_count": 11,
      "outputs": [
        {
          "output_type": "execute_result",
          "data": {
            "text/plain": [
              "11.230436023386723"
            ]
          },
          "metadata": {
            "tags": []
          },
          "execution_count": 11
        }
      ]
    },
    {
      "cell_type": "markdown",
      "metadata": {
        "id": "_Q2hVkOSbwYy"
      },
      "source": [
        "## Step 5: Report Results"
      ]
    },
    {
      "cell_type": "code",
      "metadata": {
        "id": "zb4DikHIbyfP",
        "outputId": "a57e5574-be37-4565-d7a0-5038f8f2d6c2",
        "colab": {
          "base_uri": "https://localhost:8080/",
          "height": 316
        }
      },
      "source": [
        "import matplotlib.pyplot as plt\n",
        "\n",
        "# Label axes and title\n",
        "plt.title('Cost over iterations (training)')\n",
        "plt.ylabel('J(w)')\n",
        "plt.xlabel('Iteration #')\n",
        "\n",
        "# Set log scale\n",
        "plt.xscale('log')\n",
        "\n",
        "# Plot J(w) over iterations\n",
        "plt.plot(np.arange(len(costs)), costs)"
      ],
      "execution_count": 12,
      "outputs": [
        {
          "output_type": "execute_result",
          "data": {
            "text/plain": [
              "[<matplotlib.lines.Line2D at 0x7fd023ac23c8>]"
            ]
          },
          "metadata": {
            "tags": []
          },
          "execution_count": 12
        },
        {
          "output_type": "display_data",
          "data": {
            "image/png": "[encoded data removed]",
            "text/plain": [
              "<Figure size 432x288 with 1 Axes>"
            ]
          },
          "metadata": {
            "tags": [],
            "needs_background": "light"
          }
        }
      ]
    },
    {
      "cell_type": "code",
      "metadata": {
        "id": "CkXXh1ka5Uxa",
        "outputId": "af61a531-46c7-4cfa-e2b8-edcdc00d0e83",
        "colab": {
          "base_uri": "https://localhost:8080/",
          "height": 51
        }
      },
      "source": [
        "# Let's pick a car not in the dataset: The 1999 Honda Accord.\n",
        "y_sample = np.array([[31]])\n",
        "x_sample = np.array([[4, 109.6, 158, 2885, 16.3, 99, 3]])\n",
        "y_pred = predict(x_sample, w, is_design_matrix=False).item()\n",
        "print(f'The 19{int(x_sample[0,5])} Honda Accord is a {y_sample.item()} MPG sedan with a {int(x_sample[0,0])}-cyl engine (among other properties).\\nThe model predicted this car to have {y_pred} MPG fuel economy.')"
      ],
      "execution_count": 13,
      "outputs": [
        {
          "output_type": "stream",
          "text": [
            "The 1999 Honda Accord is a 31 MPG sedan with a 4-cyl engine (among other properties).\n",
            "The model predicted this car to have 36.28047653346874 MPG fuel economy.\n"
          ],
          "name": "stdout"
        }
      ]
    },
    {
      "cell_type": "code",
      "metadata": {
        "id": "0UW4SovdArD7"
      },
      "source": [
        ""
      ],
      "execution_count": 13,
      "outputs": []
    }
  ]
}