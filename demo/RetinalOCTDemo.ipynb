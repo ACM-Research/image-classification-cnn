{
  "nbformat": 4,
  "nbformat_minor": 0,
  "metadata": {
    "colab": {
      "name": "RetinalOCTDemo.ipynb",
      "provenance": [],
      "collapsed_sections": []
    },
    "kernelspec": {
      "name": "python3",
      "display_name": "Python 3"
    }
  },
  "cells": [
    {
      "cell_type": "markdown",
      "metadata": {
        "id": "uR7UZqRix7g3"
      },
      "source": [
        "# Retinal OCT CNN Demo (1.6M Model)\n",
        "[![Open In Colab](https://colab.research.google.com/assets/colab-badge.svg)](https://colab.research.google.com/github/ACM-Research/image-classification-cnn/blob/master/demo/RetinalOCTDemo.ipynb)"
      ]
    },
    {
      "cell_type": "code",
      "metadata": {
        "id": "-DANLhSOOJ_G",
        "cellView": "form"
      },
      "source": [
        "#@title\n",
        "import tensorflow as tf\n",
        "from tensorflow import keras\n",
        "import requests\n",
        "from google.colab import files\n",
        "from PIL import Image\n",
        "import numpy as np\n",
        "from IPython.core.display import display, HTML"
      ],
      "execution_count": 1,
      "outputs": []
    },
    {
      "cell_type": "code",
      "metadata": {
        "id": "6zzTqX8iOQXv"
      },
      "source": [
        "# Download model and weights\n",
        "model = requests.get('https://github.com/ACM-Research/image-classification-cnn/raw/master/OCT-cnn/python_model/variables/model.h5', allow_redirects=True)\n",
        "open('model.h5', 'wb').write(model.content)"
      ],
      "execution_count": null,
      "outputs": []
    },
    {
      "cell_type": "code",
      "metadata": {
        "id": "rOr12-K4O8Dk"
      },
      "source": [
        "# Load model\n",
        "model = tf.keras.models.load_model('model.h5')\n",
        "labels = ['CNV', 'DME', 'DRUSEN', 'NORMAL']"
      ],
      "execution_count": 3,
      "outputs": []
    },
    {
      "cell_type": "code",
      "metadata": {
        "id": "Sn0Gf6ScmVfB"
      },
      "source": [
        "model.summary()"
      ],
      "execution_count": null,
      "outputs": []
    },
    {
      "cell_type": "code",
      "metadata": {
        "id": "unVWHTaqPjFN"
      },
      "source": [
        "# Ask for files\n",
        "uploaded = files.upload()"
      ],
      "execution_count": null,
      "outputs": []
    },
    {
      "cell_type": "code",
      "metadata": {
        "id": "gVTbDEzQPwOK"
      },
      "source": [
        "for f in uploaded.keys():\n",
        "    files.view(f)\n",
        "    img = Image.open(f).resize((180,180))\n",
        "    img_arr = np.asarray(img)\n",
        "    batch = np.stack((img_arr,img_arr,img_arr), axis=-1)\n",
        "    batch = batch[np.newaxis, ...]\n",
        "    prediction = np.argmax(model.predict(batch), axis=-1)\n",
        "    display(HTML(f'<h1>The selected image was classified as {labels[prediction[0]]}</h1>'))"
      ],
      "execution_count": null,
      "outputs": []
    }
  ]
}